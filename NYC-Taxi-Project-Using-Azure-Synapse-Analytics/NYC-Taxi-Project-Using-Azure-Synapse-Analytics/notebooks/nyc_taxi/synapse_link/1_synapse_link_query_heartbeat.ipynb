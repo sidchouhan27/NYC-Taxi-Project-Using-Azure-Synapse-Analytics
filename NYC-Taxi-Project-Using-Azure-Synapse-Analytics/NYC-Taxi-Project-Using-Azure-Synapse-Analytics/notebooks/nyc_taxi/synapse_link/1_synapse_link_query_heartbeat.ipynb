{
  "nbformat": 4,
  "nbformat_minor": 2,
  "cells": [
    {
      "cell_type": "code",
      "execution_count": 1,
      "outputs": [
        {
          "output_type": "display_data",
          "data": {
            "application/vnd.livy.statement-meta+json": {
              "spark_pool": "coursepool",
              "session_id": 5,
              "statement_id": 2,
              "state": "finished",
              "livy_statement_state": "available",
              "queued_time": "2022-05-16T12:08:27.976474Z",
              "session_start_time": null,
              "execution_start_time": "2022-05-16T12:09:28.5658635Z",
              "execution_finish_time": "2022-05-16T12:10:03.8224624Z"
            },
            "text/plain": "StatementMeta(coursepool, 5, 2, Finished, Available)"
          },
          "metadata": {}
        },
        {
          "output_type": "display_data",
          "data": {
            "application/vnd.synapse.widget-view+json": {
              "widget_id": "71c82ade-59af-4188-bc90-55fadbc6dea0",
              "widget_type": "Synapse.DataFrame"
            },
            "text/plain": "SynapseWidget(Synapse.DataFrame, 71c82ade-59af-4188-bc90-55fadbc6dea0)"
          },
          "metadata": {}
        }
      ],
      "metadata": {
        "collapsed": false
      },
      "source": [
        "# Read from Cosmos DB analytical store into a Spark DataFrame and display 10 rows from the DataFrame\n",
        "# To select a preferred list of regions in a multi-region Cosmos DB account, add .option(\"spark.cosmos.preferredRegions\", \"<Region1>,<Region2>\")\n",
        "\n",
        "df = spark.read\\\n",
        "    .format(\"cosmos.olap\")\\\n",
        "    .option(\"spark.synapse.linkedService\", \"ls_cosmos_db_nyc_taxi_data\")\\\n",
        "    .option(\"spark.cosmos.container\", \"Heartbeat\")\\\n",
        "    .load()\n",
        "\n",
        "display(df.limit(10))"
      ]
    }
  ],
  "metadata": {
    "description": null,
    "save_output": true,
    "kernelspec": {
      "name": "synapse_pyspark",
      "display_name": "Synapse PySpark"
    },
    "language_info": {
      "name": "python"
    },
    "synapse_widget": {
      "version": "0.1",
      "state": {
        "71c82ade-59af-4188-bc90-55fadbc6dea0": {
          "type": "Synapse.DataFrame",
          "sync_state": {
            "table": {
              "rows": [
                {
                  "0": "8D41AIbZAVUEAAAAAAAAAA==",
                  "1": "1652696931",
                  "2": "driver-000004",
                  "3": "true",
                  "4": "2.01",
                  "5": "4",
                  "6": "device-000004",
                  "7": "2022-05-16T01:25:43.501Z",
                  "8": {
                    "latitude": 40.8448,
                    "longitude": 73.8648
                  },
                  "9": {
                    "latitude": 40.8431,
                    "longitude": 73.9122
                  },
                  "10": "efe38634-d5cf-412e-bf77-8de0442fe1ee",
                  "11": "\"01005737-0000-0100-0000-628227630000\""
                },
                {
                  "0": "8D41AIbZAVUFAAAAAAAAAA==",
                  "1": "1652696942",
                  "2": "driver-000005",
                  "3": "true",
                  "4": "20.8",
                  "5": "54",
                  "6": "device-000005",
                  "7": "2022-05-16T01:25:43.519Z",
                  "8": {
                    "latitude": 40.7282,
                    "longitude": 73.7949
                  },
                  "9": {
                    "latitude": 40.7231,
                    "longitude": 73.9412
                  },
                  "10": "ecc725f8-5f14-4d7d-b357-d16d9b97ef6b",
                  "11": "\"01005837-0000-0100-0000-6282276e0000\""
                },
                {
                  "0": "8D41AIbZAVUCAAAAAAAAAA==",
                  "1": "1652695839",
                  "2": "driver-000002",
                  "3": "false",
                  "4": "0.0",
                  "5": "0",
                  "6": "device-000002",
                  "7": "2022-05-16T01:25:43.515Z",
                  "8": {
                    "latitude": 40.6782,
                    "longitude": 73.9442
                  },
                  "9": {
                    "latitude": 40.6731,
                    "longitude": 73.9502
                  },
                  "10": "1f781289-8547-4618-9cf1-4bbbe189f86c",
                  "11": "\"01005537-0000-0100-0000-6282231f0000\""
                },
                {
                  "0": "8D41AIbZAVUBAAAAAAAAAA==",
                  "1": "1652695764",
                  "2": "driver-000001",
                  "3": "true",
                  "4": "10.02",
                  "5": "22",
                  "6": "device-000001",
                  "7": "2022-05-16T01:25:43.511Z",
                  "8": {
                    "latitude": 40.7831,
                    "longitude": 73.9712
                  },
                  "9": {
                    "latitude": 40.7931,
                    "longitude": 73.9512
                  },
                  "10": "1e969d4e-a233-4eab-a032-1bbab320d81c",
                  "11": "\"01005437-0000-0100-0000-628222d40000\""
                }
              ],
              "schema": [
                {
                  "key": "0",
                  "name": "_rid",
                  "type": "string"
                },
                {
                  "key": "1",
                  "name": "_ts",
                  "type": "bigint"
                },
                {
                  "key": "2",
                  "name": "driverId",
                  "type": "string"
                },
                {
                  "key": "3",
                  "name": "hired",
                  "type": "boolean"
                },
                {
                  "key": "4",
                  "name": "distanceToDestination",
                  "type": "double"
                },
                {
                  "key": "5",
                  "name": "timeToDestinationMins",
                  "type": "bigint"
                },
                {
                  "key": "6",
                  "name": "deviceId",
                  "type": "string"
                },
                {
                  "key": "7",
                  "name": "deviceTimestamp",
                  "type": "string"
                },
                {
                  "key": "8",
                  "name": "DeviceLocation",
                  "type": "StructType(StructField(latitude,DoubleType,true), StructField(longitude,DoubleType,true))"
                },
                {
                  "key": "9",
                  "name": "DestinationLocation",
                  "type": "StructType(StructField(latitude,DoubleType,true), StructField(longitude,DoubleType,true))"
                },
                {
                  "key": "10",
                  "name": "id",
                  "type": "string"
                },
                {
                  "key": "11",
                  "name": "_etag",
                  "type": "string"
                }
              ],
              "truncated": false
            },
            "isSummary": false,
            "language": "scala"
          },
          "persist_state": {
            "view": {
              "type": "details",
              "tableOptions": {},
              "chartOptions": {
                "chartType": "bar",
                "aggregationType": "sum",
                "categoryFieldKeys": [
                  "0"
                ],
                "seriesFieldKeys": [
                  "1"
                ],
                "isStacked": false
              }
            }
          }
        }
      }
    }
  }
}